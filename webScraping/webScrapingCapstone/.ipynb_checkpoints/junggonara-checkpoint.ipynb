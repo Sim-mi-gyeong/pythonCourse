{
 "cells": [
  {
   "cell_type": "code",
   "execution_count": 57,
   "id": "1c28da69",
   "metadata": {},
   "outputs": [],
   "source": [
    "from selenium import webdriver\n",
    "from selenium.webdriver.common.keys import Keys\n",
    "from selenium.webdriver.common.by import By\n",
    "\n",
    "from selenium.common.exceptions import NoSuchElementException\n",
    "\n",
    "import requests\n",
    "from bs4 import BeautifulSoup"
   ]
  },
  {
   "cell_type": "code",
   "execution_count": 58,
   "id": "9003f2de",
   "metadata": {},
   "outputs": [],
   "source": [
    "import time\n",
    "import pyperclip\n",
    "import pymongo\n",
    "\n",
    "from openpyxl import Workbook\n",
    "import datetime\n",
    "import numpy as np\n",
    "import pandas as pd"
   ]
  },
  {
   "cell_type": "code",
   "execution_count": 59,
   "id": "f5eaa0c5",
   "metadata": {},
   "outputs": [
    {
     "name": "stderr",
     "output_type": "stream",
     "text": [
      "<ipython-input-59-446072ecd6a9>:1: DeprecationWarning: executable_path has been deprecated, please pass in a Service object\n",
      "  browser = webdriver.Chrome('./chromedriver')\n"
     ]
    }
   ],
   "source": [
    "browser = webdriver.Chrome('./chromedriver')\n",
    "browser.maximize_window()"
   ]
  },
  {
   "cell_type": "code",
   "execution_count": 60,
   "id": "7a3bc36b",
   "metadata": {},
   "outputs": [],
   "source": [
    "# 중고나라 접속\n",
    "# url = \"https://cafe.naver.com/junggonara\"\n",
    "url = \"https://cafe.naver.com/joonggonara.cafe?iframe_url=/ArticleList.nhn%3Fsearch.clubid=10050146%26search.boardtype=L%26viewType=pc\"\n",
    "browser.implicitly_wait(3)\n",
    "browser.get(url)\n",
    "time.sleep(1)"
   ]
  },
  {
   "cell_type": "code",
   "execution_count": 61,
   "id": "b191db01",
   "metadata": {},
   "outputs": [],
   "source": [
    "# 로그인 페이지 이동\n",
    "loginBtn = browser.find_element(By.ID, 'gnb_login_button')\n",
    "loginBtn.click()\n",
    "# loginBtn.send_keys(Keys.ENTER)\n",
    "time.sleep(1)"
   ]
  },
  {
   "cell_type": "code",
   "execution_count": 62,
   "id": "474bea12",
   "metadata": {},
   "outputs": [],
   "source": [
    "# ID, Password 입력할 곳을 찾고 입력(copy)\n",
    "\n",
    "inputId = browser.find_element(By.ID, 'id')\n",
    "inputPw = browser.find_element(By.ID, 'pw')\n",
    "# inputId = browser.find_element(By.ID, 'id_line')\n",
    "# inputPw = browser.find_element(By.ID, 'pw_line')\n",
    "\n",
    "# 입력된 값이 없는 상태로\n",
    "inputId.clear()\n",
    "inputPw.clear()"
   ]
  },
  {
   "cell_type": "code",
   "execution_count": 64,
   "id": "4dcee9af",
   "metadata": {},
   "outputs": [],
   "source": [
    "myId = 'alruddlwl'\n",
    "myPw = 'seung1217!'\n",
    "\n",
    "# ID 입력\n",
    "inputId.click()\n",
    "inputId.send_keys(myId)\n",
    "# id, pw 값 secrets.json 으로 따로 빼기\n",
    "# pyperclip.copy(myId)\n",
    "# inputId.send_keys(Keys.CONTROL, 'v')\n",
    "time.sleep(1)\n",
    "\n",
    "# PW 입력\n",
    "inputPw.click()\n",
    "inputPw.send_keys(myPw)\n",
    "# pyperclip.copy('seung1217!')\n",
    "# inputPw.send_keys(Keys.CONTROL, 'v')\n",
    "time.sleep(1)\n",
    "\n",
    "# 로그인 버튼 클릭\n",
    "loginBtn = browser.find_element(By.ID, 'log.login')\n",
    "loginBtn.click()"
   ]
  },
  {
   "cell_type": "code",
   "execution_count": 88,
   "id": "a3970d7d",
   "metadata": {},
   "outputs": [],
   "source": [
    "# # iframe 들어가기\n",
    "# browser.switch_to.frame('cafe_main')"
   ]
  },
  {
   "cell_type": "code",
   "execution_count": 168,
   "id": "37e9b331",
   "metadata": {},
   "outputs": [],
   "source": [
    "baseUrl = \"https://cafe.naver.com/joonggonara\"\n",
    "junggonaraId = 10050146\n",
    "\n",
    "# 카테고리 ID\n",
    "mobilePhoneId = 339   # 휴대폰\n",
    "tabletId = 749  # 태블릿\n",
    "sideDeviceId = 427   # 주변기기/악세사리\n",
    "laptopId = 334   # 노트북\n",
    "desktopId = 382   # 데스크탑\n",
    "monitorId = 383   # 모니터\n",
    "\n",
    "menuIds = [mobilePhoneId, tabletId, sideDeviceId, laptopId, desktopId, monitorId]\n",
    "\n",
    "# 필요한 카테고리 열기\n",
    "# categoryListUrls = f\"{baseUrl}?iframe_url=/ArticleList.nhn%3Fsearch.clubid={junggonaraId}%26search.menuid={menuIds}%26search.boardtype=L\"\n",
    "categoryListUrl = f\"{baseUrl}?iframe_url=/ArticleList.nhn%3Fsearch.clubid={junggonaraId}%26search.menuid={mobilePhoneId}%26search.boardtype=L\""
   ]
  },
  {
   "cell_type": "code",
   "execution_count": 169,
   "id": "1450a8d5",
   "metadata": {},
   "outputs": [
    {
     "name": "stdout",
     "output_type": "stream",
     "text": [
      "[]\n"
     ]
    }
   ],
   "source": [
    "# 카테고리 페이지로 이동\n",
    "browser.get(categoryListUrl)\n",
    "time.sleep(1)\n",
    "\n",
    "# 크롤링할 페이지 설정\n",
    "pages = 10   # 더 늘리기\n",
    "\n",
    "# 공지 게시물을 제외한 article 만\n",
    "# 공지 게시물과 작성 게시물 div class = \"article-board m-tcol-c\"\n",
    "# 공지 게시물의 경우 id = \"upperArticleList\"\n",
    "# soup = BeautifulSoup(browser.page_source, 'lxml')\n",
    "# articles = browser.find_elemens(By.CLASS_NAME, \"article\")\n",
    "# articles = soup.find_all('a', attrs = {'class' : 'article'})\n",
    "# articles = browser.find_elements_by_css_selector('.article')\n",
    "articles = browser.find_elements(By.CSS_SELECTOR, '.article')\n",
    "# articles = browser.find_element(By.XPATH, '//*[@id=\"main-area\"]/div[4]/table/tbody/tr[1]/td[1]/div[2]/div/a')\n",
    "\n",
    "# articles = browser.find_elements(By.XPATH, '//*[@id=\"main-area\"]/div[4]')\n",
    "\n",
    "\n",
    "print(articles)\n",
    "# for i in range(len(articles)):\n",
    "#     article = articles['href'][i]"
   ]
  },
  {
   "cell_type": "code",
   "execution_count": 170,
   "id": "5499fe57",
   "metadata": {},
   "outputs": [],
   "source": [
    "# iframe 들어가기\n",
    "browser.switch_to.frame('cafe_main')"
   ]
  },
  {
   "cell_type": "code",
   "execution_count": 160,
   "id": "ec94bf98",
   "metadata": {},
   "outputs": [
    {
     "name": "stdout",
     "output_type": "stream",
     "text": [
      "[]\n"
     ]
    }
   ],
   "source": [
    "soup = BeautifulSoup(browser.page_source, 'lxml')\n",
    "articles = soup.find_all('div', attrs = {'class' : 'article-board m-tcol-c'})\n",
    "# articles = soup.find_all('div', attrs = {'id' : 'main-area'})\n",
    "# articles = browser.find_elements(By.CLASS_NAME, 'article-board m-tcol-c')\n",
    "print(articles)"
   ]
  },
  {
   "cell_type": "code",
   "execution_count": 161,
   "id": "9633c56a",
   "metadata": {},
   "outputs": [],
   "source": [
    "for article in articles:\n",
    "    print(article)"
   ]
  },
  {
   "cell_type": "code",
   "execution_count": 115,
   "id": "9444ad71",
   "metadata": {},
   "outputs": [
    {
     "name": "stdout",
     "output_type": "stream",
     "text": [
      "/ArticleRead.nhn?clubid=10050146&menuid=339&boardtype=L&page=1&specialmenutype=&userDisplay=15&articleid=907567113\n",
      "/ArticleRead.nhn?clubid=10050146&page=1&menuid=339&boardtype=L&articleid=907576991&referrerAllArticles=false\n"
     ]
    }
   ],
   "source": [
    "for article in articles:\n",
    "    content = article.find('a', attrs = {'class' : 'article'})\n",
    "#     if content != None:\n",
    "#         content = content.get_text()\n",
    "#     else:\n",
    "#         continue\n",
    "    print(content['href'])"
   ]
  },
  {
   "cell_type": "code",
   "execution_count": 171,
   "id": "d9b4bff7",
   "metadata": {},
   "outputs": [],
   "source": [
    "# element = driver.find_element(By.CSS_SELECTOR, \"element_css_selector\")\n",
    "articles = browser.find_elements(By.CSS_SELECTOR, 'a.article')"
   ]
  },
  {
   "cell_type": "code",
   "execution_count": 172,
   "id": "54f0c5ca",
   "metadata": {},
   "outputs": [
    {
     "data": {
      "text/plain": [
       "25"
      ]
     },
     "execution_count": 172,
     "metadata": {},
     "output_type": "execute_result"
    }
   ],
   "source": [
    "len(articles)"
   ]
  },
  {
   "cell_type": "code",
   "execution_count": 124,
   "id": "c36f9a34",
   "metadata": {},
   "outputs": [],
   "source": [
    "def scraping(num):\n",
    "    with_before = 0\n",
    "    articles = browser.find_elements(By.CSS_SELECTOR, 'a.article')\n",
    "    # 게시물 이동을 위한 반복문\n",
    "    for i in range(len(articles)):\n",
    "        # 첫 페이지인 경우 - 공지 제외\n",
    "#         if i == 0:\n",
    "#             pass\n",
    "        # 각 게시물로 들어가기 \n",
    "        article = articles[i]\n",
    "        article.click()\n",
    "        time.sleep(2)\n",
    "        \n"
   ]
  },
  {
   "cell_type": "code",
   "execution_count": 164,
   "id": "1d93cb2a",
   "metadata": {},
   "outputs": [],
   "source": [
    "total_page = 1000\n",
    "\n",
    "# 페이지 개수 나누기\n",
    "total_next = total_page // 10\n",
    "last_page = total_page - total_next * 10"
   ]
  },
  {
   "cell_type": "code",
   "execution_count": 179,
   "id": "0901010d",
   "metadata": {},
   "outputs": [],
   "source": [
    "# datetime \n",
    "now = datetime.datetime.now()\n",
    "today = now.strftime('%Y-%m-%d')\n",
    "\n",
    "# 엑셀 작성\n",
    "wb = Workbook(write_only=True)\n",
    "ws = wb.create_sheet(today)\n",
    "# ws.append(['작성 날짜', '제목', 'url', '가격', '상품 상태', '상품 설명'])\n",
    "ws.append(['제목', '가격', '상품 상태', '작성 날짜', '상품 설명', 'url'])"
   ]
  },
  {
   "cell_type": "code",
   "execution_count": 178,
   "id": "7e0a5f55",
   "metadata": {},
   "outputs": [
    {
     "name": "stdout",
     "output_type": "stream",
     "text": [
      "len(articles) :  25\n",
      "date :  2022.03.30. 16:19\n",
      "title :  29556 갤럭시S10+ 512기가 A급 화이트 공기계 팝니다 32만원\n",
      "url :  https://cafe.naver.com/ca-fe/cafes/10050146/articles/907593573?page=1&menuid=339&boardtype=L&referrerAllArticles=false&oldPath=%2FArticleRead.nhn%3Fclubid%3D10050146%26page%3D1%26menuid%3D339%26boardtype%3DL%26articleid%3D907593573%26referrerAllArticles%3Dfalse#\n",
      "price :  320000\n",
      "price :  320000\n",
      "status :  <selenium.webdriver.remote.webelement.WebElement (session=\"656746c6638938db0076149e13ba18b4\", element=\"c8b965fe-65ee-49b1-83bb-2859c9d5ca7d\")>\n",
      "statusTitle :  상품 상태\n",
      "statusContent :  거의 새 것\n",
      "explanation :  제품정보\n",
      "기기명 : G975\n",
      "통신사: SKT ( SK,KT,LGU+ 모든 통신사 사용가능함 )\n",
      "제품상태 : 사진과 동일, 전체적으로 깨끗하고 좋습니다 ^^\n",
      "액정기스 있는데 필름은 서비스로 붙여드릴게요 !\n",
      "최초통화일 : 19 03 20\n",
      "구성품 : 필름 + 케이스 ( 보유중인 기종만 가능. 문의주세요 )\n",
      "기능 : 안되는거 없이 다 잘됩니다\n",
      "25% 선택약정 가능유무 : 가능 ( 정상해지 공기계 ) \n",
      "  제품설명\n",
      "- 택배비는 선불3000원, 오후4시 이전 입금건 당일 발송\n",
      " - 전 기종 현금 할인가로 올려둔 금액이며 가격 조정 불가\n",
      " - 중고 특성상 외관 생활기스 및 찍힘, 단순변심, 배터리 소모 등으로는 반품 및 교환 불가\n",
      " 거래방식\n",
      "택배/직거래(부산대) 합니다.\n",
      "연락처: 010-5785-6918\n",
      "( 일하는중이라 가급적이면 문자나 카톡주세요 )\n",
      " ★★★★글 제목에 상품번호 알려주시면 빠른 확인 가능해요\n",
      " \n"
     ]
    },
    {
     "ename": "StaleElementReferenceException",
     "evalue": "Message: stale element reference: element is not attached to the page document\n  (Session info: chrome=99.0.4844.84)\nStacktrace:\n0   chromedriver                        0x000000010533b370 chromedriver + 4420464\n1   chromedriver                        0x00000001052d2940 chromedriver + 3991872\n2   chromedriver                        0x0000000104f32548 chromedriver + 189768\n3   chromedriver                        0x0000000104f34ea4 chromedriver + 200356\n4   chromedriver                        0x0000000104f34d0c chromedriver + 199948\n5   chromedriver                        0x0000000104f34f40 chromedriver + 200512\n6   chromedriver                        0x0000000104f62614 chromedriver + 386580\n7   chromedriver                        0x0000000104f578e4 chromedriver + 342244\n8   chromedriver                        0x0000000104f573bc chromedriver + 340924\n9   chromedriver                        0x0000000104f89bfc chromedriver + 547836\n10  chromedriver                        0x0000000104f56248 chromedriver + 336456\n11  chromedriver                        0x00000001052ff548 chromedriver + 4175176\n12  chromedriver                        0x000000010531595c chromedriver + 4266332\n13  chromedriver                        0x000000010531a660 chromedriver + 4286048\n14  chromedriver                        0x0000000105316124 chromedriver + 4268324\n15  chromedriver                        0x00000001052f553c chromedriver + 4134204\n16  chromedriver                        0x000000010532deb0 chromedriver + 4366000\n17  chromedriver                        0x000000010532e014 chromedriver + 4366356\n18  chromedriver                        0x0000000105341a6c chromedriver + 4446828\n19  libsystem_pthread.dylib             0x00000001908aafd4 _pthread_start + 320\n20  libsystem_pthread.dylib             0x00000001908a5d3c thread_start + 8\n",
     "output_type": "error",
     "traceback": [
      "\u001b[0;31m---------------------------------------------------------------------------\u001b[0m",
      "\u001b[0;31mStaleElementReferenceException\u001b[0m            Traceback (most recent call last)",
      "\u001b[0;32m<ipython-input-178-a35bd9021d28>\u001b[0m in \u001b[0;36m<module>\u001b[0;34m\u001b[0m\n\u001b[1;32m      9\u001b[0m     \u001b[0;31m# 각 게시물로 들어가기\u001b[0m\u001b[0;34m\u001b[0m\u001b[0;34m\u001b[0m\u001b[0;34m\u001b[0m\u001b[0m\n\u001b[1;32m     10\u001b[0m     \u001b[0marticle\u001b[0m \u001b[0;34m=\u001b[0m \u001b[0marticles\u001b[0m\u001b[0;34m[\u001b[0m\u001b[0mi\u001b[0m\u001b[0;34m]\u001b[0m\u001b[0;34m\u001b[0m\u001b[0;34m\u001b[0m\u001b[0m\n\u001b[0;32m---> 11\u001b[0;31m     \u001b[0marticle\u001b[0m\u001b[0;34m.\u001b[0m\u001b[0mclick\u001b[0m\u001b[0;34m(\u001b[0m\u001b[0;34m)\u001b[0m\u001b[0;34m\u001b[0m\u001b[0;34m\u001b[0m\u001b[0m\n\u001b[0m\u001b[1;32m     12\u001b[0m     \u001b[0mtime\u001b[0m\u001b[0;34m.\u001b[0m\u001b[0msleep\u001b[0m\u001b[0;34m(\u001b[0m\u001b[0;36m1\u001b[0m\u001b[0;34m)\u001b[0m\u001b[0;34m\u001b[0m\u001b[0;34m\u001b[0m\u001b[0m\n\u001b[1;32m     13\u001b[0m \u001b[0;34m\u001b[0m\u001b[0m\n",
      "\u001b[0;32m~/opt/anaconda3/lib/python3.8/site-packages/selenium/webdriver/remote/webelement.py\u001b[0m in \u001b[0;36mclick\u001b[0;34m(self)\u001b[0m\n\u001b[1;32m     79\u001b[0m     \u001b[0;32mdef\u001b[0m \u001b[0mclick\u001b[0m\u001b[0;34m(\u001b[0m\u001b[0mself\u001b[0m\u001b[0;34m)\u001b[0m \u001b[0;34m->\u001b[0m \u001b[0;32mNone\u001b[0m\u001b[0;34m:\u001b[0m\u001b[0;34m\u001b[0m\u001b[0;34m\u001b[0m\u001b[0m\n\u001b[1;32m     80\u001b[0m         \u001b[0;34m\"\"\"Clicks the element.\"\"\"\u001b[0m\u001b[0;34m\u001b[0m\u001b[0;34m\u001b[0m\u001b[0m\n\u001b[0;32m---> 81\u001b[0;31m         \u001b[0mself\u001b[0m\u001b[0;34m.\u001b[0m\u001b[0m_execute\u001b[0m\u001b[0;34m(\u001b[0m\u001b[0mCommand\u001b[0m\u001b[0;34m.\u001b[0m\u001b[0mCLICK_ELEMENT\u001b[0m\u001b[0;34m)\u001b[0m\u001b[0;34m\u001b[0m\u001b[0;34m\u001b[0m\u001b[0m\n\u001b[0m\u001b[1;32m     82\u001b[0m \u001b[0;34m\u001b[0m\u001b[0m\n\u001b[1;32m     83\u001b[0m     \u001b[0;32mdef\u001b[0m \u001b[0msubmit\u001b[0m\u001b[0;34m(\u001b[0m\u001b[0mself\u001b[0m\u001b[0;34m)\u001b[0m\u001b[0;34m:\u001b[0m\u001b[0;34m\u001b[0m\u001b[0;34m\u001b[0m\u001b[0m\n",
      "\u001b[0;32m~/opt/anaconda3/lib/python3.8/site-packages/selenium/webdriver/remote/webelement.py\u001b[0m in \u001b[0;36m_execute\u001b[0;34m(self, command, params)\u001b[0m\n\u001b[1;32m    708\u001b[0m             \u001b[0mparams\u001b[0m \u001b[0;34m=\u001b[0m \u001b[0;34m{\u001b[0m\u001b[0;34m}\u001b[0m\u001b[0;34m\u001b[0m\u001b[0;34m\u001b[0m\u001b[0m\n\u001b[1;32m    709\u001b[0m         \u001b[0mparams\u001b[0m\u001b[0;34m[\u001b[0m\u001b[0;34m'id'\u001b[0m\u001b[0;34m]\u001b[0m \u001b[0;34m=\u001b[0m \u001b[0mself\u001b[0m\u001b[0;34m.\u001b[0m\u001b[0m_id\u001b[0m\u001b[0;34m\u001b[0m\u001b[0;34m\u001b[0m\u001b[0m\n\u001b[0;32m--> 710\u001b[0;31m         \u001b[0;32mreturn\u001b[0m \u001b[0mself\u001b[0m\u001b[0;34m.\u001b[0m\u001b[0m_parent\u001b[0m\u001b[0;34m.\u001b[0m\u001b[0mexecute\u001b[0m\u001b[0;34m(\u001b[0m\u001b[0mcommand\u001b[0m\u001b[0;34m,\u001b[0m \u001b[0mparams\u001b[0m\u001b[0;34m)\u001b[0m\u001b[0;34m\u001b[0m\u001b[0;34m\u001b[0m\u001b[0m\n\u001b[0m\u001b[1;32m    711\u001b[0m \u001b[0;34m\u001b[0m\u001b[0m\n\u001b[1;32m    712\u001b[0m     \u001b[0;32mdef\u001b[0m \u001b[0mfind_element\u001b[0m\u001b[0;34m(\u001b[0m\u001b[0mself\u001b[0m\u001b[0;34m,\u001b[0m \u001b[0mby\u001b[0m\u001b[0;34m=\u001b[0m\u001b[0mBy\u001b[0m\u001b[0;34m.\u001b[0m\u001b[0mID\u001b[0m\u001b[0;34m,\u001b[0m \u001b[0mvalue\u001b[0m\u001b[0;34m=\u001b[0m\u001b[0;32mNone\u001b[0m\u001b[0;34m)\u001b[0m\u001b[0;34m:\u001b[0m\u001b[0;34m\u001b[0m\u001b[0;34m\u001b[0m\u001b[0m\n",
      "\u001b[0;32m~/opt/anaconda3/lib/python3.8/site-packages/selenium/webdriver/remote/webdriver.py\u001b[0m in \u001b[0;36mexecute\u001b[0;34m(self, driver_command, params)\u001b[0m\n\u001b[1;32m    423\u001b[0m         \u001b[0mresponse\u001b[0m \u001b[0;34m=\u001b[0m \u001b[0mself\u001b[0m\u001b[0;34m.\u001b[0m\u001b[0mcommand_executor\u001b[0m\u001b[0;34m.\u001b[0m\u001b[0mexecute\u001b[0m\u001b[0;34m(\u001b[0m\u001b[0mdriver_command\u001b[0m\u001b[0;34m,\u001b[0m \u001b[0mparams\u001b[0m\u001b[0;34m)\u001b[0m\u001b[0;34m\u001b[0m\u001b[0;34m\u001b[0m\u001b[0m\n\u001b[1;32m    424\u001b[0m         \u001b[0;32mif\u001b[0m \u001b[0mresponse\u001b[0m\u001b[0;34m:\u001b[0m\u001b[0;34m\u001b[0m\u001b[0;34m\u001b[0m\u001b[0m\n\u001b[0;32m--> 425\u001b[0;31m             \u001b[0mself\u001b[0m\u001b[0;34m.\u001b[0m\u001b[0merror_handler\u001b[0m\u001b[0;34m.\u001b[0m\u001b[0mcheck_response\u001b[0m\u001b[0;34m(\u001b[0m\u001b[0mresponse\u001b[0m\u001b[0;34m)\u001b[0m\u001b[0;34m\u001b[0m\u001b[0;34m\u001b[0m\u001b[0m\n\u001b[0m\u001b[1;32m    426\u001b[0m             response['value'] = self._unwrap_value(\n\u001b[1;32m    427\u001b[0m                 response.get('value', None))\n",
      "\u001b[0;32m~/opt/anaconda3/lib/python3.8/site-packages/selenium/webdriver/remote/errorhandler.py\u001b[0m in \u001b[0;36mcheck_response\u001b[0;34m(self, response)\u001b[0m\n\u001b[1;32m    245\u001b[0m                 \u001b[0malert_text\u001b[0m \u001b[0;34m=\u001b[0m \u001b[0mvalue\u001b[0m\u001b[0;34m[\u001b[0m\u001b[0;34m'alert'\u001b[0m\u001b[0;34m]\u001b[0m\u001b[0;34m.\u001b[0m\u001b[0mget\u001b[0m\u001b[0;34m(\u001b[0m\u001b[0;34m'text'\u001b[0m\u001b[0;34m)\u001b[0m\u001b[0;34m\u001b[0m\u001b[0;34m\u001b[0m\u001b[0m\n\u001b[1;32m    246\u001b[0m             \u001b[0;32mraise\u001b[0m \u001b[0mexception_class\u001b[0m\u001b[0;34m(\u001b[0m\u001b[0mmessage\u001b[0m\u001b[0;34m,\u001b[0m \u001b[0mscreen\u001b[0m\u001b[0;34m,\u001b[0m \u001b[0mstacktrace\u001b[0m\u001b[0;34m,\u001b[0m \u001b[0malert_text\u001b[0m\u001b[0;34m)\u001b[0m  \u001b[0;31m# type: ignore[call-arg]  # mypy is not smart enough here\u001b[0m\u001b[0;34m\u001b[0m\u001b[0;34m\u001b[0m\u001b[0m\n\u001b[0;32m--> 247\u001b[0;31m         \u001b[0;32mraise\u001b[0m \u001b[0mexception_class\u001b[0m\u001b[0;34m(\u001b[0m\u001b[0mmessage\u001b[0m\u001b[0;34m,\u001b[0m \u001b[0mscreen\u001b[0m\u001b[0;34m,\u001b[0m \u001b[0mstacktrace\u001b[0m\u001b[0;34m)\u001b[0m\u001b[0;34m\u001b[0m\u001b[0;34m\u001b[0m\u001b[0m\n\u001b[0m\u001b[1;32m    248\u001b[0m \u001b[0;34m\u001b[0m\u001b[0m\n\u001b[1;32m    249\u001b[0m     \u001b[0;32mdef\u001b[0m \u001b[0m_value_or_default\u001b[0m\u001b[0;34m(\u001b[0m\u001b[0mself\u001b[0m\u001b[0;34m,\u001b[0m \u001b[0mobj\u001b[0m\u001b[0;34m:\u001b[0m \u001b[0mMapping\u001b[0m\u001b[0;34m[\u001b[0m\u001b[0m_KT\u001b[0m\u001b[0;34m,\u001b[0m \u001b[0m_VT\u001b[0m\u001b[0;34m]\u001b[0m\u001b[0;34m,\u001b[0m \u001b[0mkey\u001b[0m\u001b[0;34m:\u001b[0m \u001b[0m_KT\u001b[0m\u001b[0;34m,\u001b[0m \u001b[0mdefault\u001b[0m\u001b[0;34m:\u001b[0m \u001b[0m_VT\u001b[0m\u001b[0;34m)\u001b[0m \u001b[0;34m->\u001b[0m \u001b[0m_VT\u001b[0m\u001b[0;34m:\u001b[0m\u001b[0;34m\u001b[0m\u001b[0;34m\u001b[0m\u001b[0m\n",
      "\u001b[0;31mStaleElementReferenceException\u001b[0m: Message: stale element reference: element is not attached to the page document\n  (Session info: chrome=99.0.4844.84)\nStacktrace:\n0   chromedriver                        0x000000010533b370 chromedriver + 4420464\n1   chromedriver                        0x00000001052d2940 chromedriver + 3991872\n2   chromedriver                        0x0000000104f32548 chromedriver + 189768\n3   chromedriver                        0x0000000104f34ea4 chromedriver + 200356\n4   chromedriver                        0x0000000104f34d0c chromedriver + 199948\n5   chromedriver                        0x0000000104f34f40 chromedriver + 200512\n6   chromedriver                        0x0000000104f62614 chromedriver + 386580\n7   chromedriver                        0x0000000104f578e4 chromedriver + 342244\n8   chromedriver                        0x0000000104f573bc chromedriver + 340924\n9   chromedriver                        0x0000000104f89bfc chromedriver + 547836\n10  chromedriver                        0x0000000104f56248 chromedriver + 336456\n11  chromedriver                        0x00000001052ff548 chromedriver + 4175176\n12  chromedriver                        0x000000010531595c chromedriver + 4266332\n13  chromedriver                        0x000000010531a660 chromedriver + 4286048\n14  chromedriver                        0x0000000105316124 chromedriver + 4268324\n15  chromedriver                        0x00000001052f553c chromedriver + 4134204\n16  chromedriver                        0x000000010532deb0 chromedriver + 4366000\n17  chromedriver                        0x000000010532e014 chromedriver + 4366356\n18  chromedriver                        0x0000000105341a6c chromedriver + 4446828\n19  libsystem_pthread.dylib             0x00000001908aafd4 _pthread_start + 320\n20  libsystem_pthread.dylib             0x00000001908a5d3c thread_start + 8\n"
     ]
    }
   ],
   "source": [
    "with_before = 0\n",
    "articles = browser.find_elements(By.CSS_SELECTOR, 'a.article')\n",
    "print('len(articles) : ', len(articles))\n",
    "# 게시물 이동을 위한 반복문\n",
    "for i in range(15, len(articles)):\n",
    "    # 첫 페이지인 경우 - 공지 제외\n",
    "#         if i == 0:\n",
    "#             pass\n",
    "    # 각 게시물로 들어가기 \n",
    "    article = articles[i]\n",
    "    article.click()\n",
    "    time.sleep(1)\n",
    "    \n",
    "    # 정보 추출\n",
    "    # 공지 게시물과도 동일한 제공 정보\n",
    "    date = browser.find_element(By.CSS_SELECTOR, '.date').text\n",
    "    title = browser.find_element(By.CSS_SELECTOR, 'h3.title_text').text\n",
    "    url = browser.find_element(By.CSS_SELECTOR, '.button_url').get_attribute('href')\n",
    "    \n",
    "    print('date : ', date)\n",
    "    print('title : ', title)\n",
    "    print('url : ', url)\n",
    "    \n",
    "    # 상품 가격\n",
    "    priceStr = browser.find_element(By.CSS_SELECTOR, '.ProductPrice').text\n",
    "    if priceStr != None:\n",
    "        priceNumStr = priceStr[:-1]\n",
    "        price = priceNumStr.replace(',', '')\n",
    "        price = int(price)\n",
    "        print('price : ', price)\n",
    "    else:\n",
    "        # 제목에서 가격 문자열 추출 시도 한 번 더\n",
    "        price = ''\n",
    "#     try:\n",
    "#         # 가격 문자열을 숫자로\n",
    "        \n",
    "        \n",
    "#     except:\n",
    "#         price = ''\n",
    "#     except:\n",
    "#         # 제목에서 가격 문자열 추출\n",
    "#         try:\n",
    "#             title = title.replace('[', '')\n",
    "#             title = title.replace(']', '&')\n",
    "#             titlePriceStr = title.split('&')[-2]\n",
    "            \n",
    "#             # 가격 문자열을 숫자로 바꾸기\n",
    "#             priceNumStr = titlePriceStr[:-1]\n",
    "#             price = priceNumStr(',', '')\n",
    "#             price = int(price)\n",
    "            \n",
    "#         except:\n",
    "#             price = ''\n",
    "            \n",
    "    print('price : ', price)\n",
    "\n",
    "    # 상품 상태\n",
    "    status = browser.find_element(By.CSS_SELECTOR, '.detail_list')\n",
    "    statusTitle = status.find_element(By.CSS_SELECTOR, '.list_title').text\n",
    "    if statusTitle == '상품 상태':\n",
    "        statusContent = status.find_element(By.CSS_SELECTOR, '.list_detail').text\n",
    "        print('status : ', status)\n",
    "        print('statusTitle : ', statusTitle)\n",
    "        print('statusContent : ', statusContent)\n",
    "    else:\n",
    "        statusContent = ''\n",
    "        \n",
    "    # 상품 설명\n",
    "    explanation = browser.find_element(By.CSS_SELECTOR, '.se-main-container').text\n",
    "    print('explanation : , explanation)\n",
    "          \n",
    "    # 엑셀에 작성\n",
    "    # ws.append(['제목', '가격', '상품 상태', '작성 날짜', '상품 설명', 'url'])\n",
    "    ws.append([title, price, statusContent, date, explanation, url])\n",
    "          \n",
    "    # 뒤로 가기\n",
    "    brwoser.back()\n",
    "    browser.switch_to.frame('cafe_main')\n",
    "          \n",
    "# 다음 게시글 페이지 이동\n",
    "pages = browser.find_elements(By.CSS_SELECTOR, '.prev-next a')[page + 1 + num]\n",
    "pages.click()\n",
    "          \n"
   ]
  },
  {
   "cell_type": "code",
   "execution_count": 183,
   "id": "3e499f64",
   "metadata": {},
   "outputs": [],
   "source": [
    "total_page = 1000\n",
    "\n",
    "# 페이지 개수 나누기\n",
    "total_next = total_page // 10\n",
    "last_page = total_page - total_next * 10"
   ]
  },
  {
   "cell_type": "code",
   "execution_count": 192,
   "id": "c47dfc18",
   "metadata": {},
   "outputs": [
    {
     "name": "stdout",
     "output_type": "stream",
     "text": [
      "len(articles) :  25\n",
      "date :  2022.03.30. 16:54\n",
      "title :  [매입]아이폰 13 프로 맥스(자급제폰,박스폰,당일개통폰,중고폰)\n",
      "url :  https://cafe.naver.com/ca-fe/cafes/10050146/articles/907600113?page=1&menuid=339&boardtype=L&referrerAllArticles=false&oldPath=%2FArticleRead.nhn%3Fclubid%3D10050146%26page%3D1%26menuid%3D339%26boardtype%3DL%26articleid%3D907600113%26referrerAllArticles%3Dfalse#\n",
      "price :  3333333\n"
     ]
    },
    {
     "ename": "StaleElementReferenceException",
     "evalue": "Message: stale element reference: element is not attached to the page document\n  (Session info: chrome=99.0.4844.84)\nStacktrace:\n0   chromedriver                        0x000000010533b370 chromedriver + 4420464\n1   chromedriver                        0x00000001052d2940 chromedriver + 3991872\n2   chromedriver                        0x0000000104f32548 chromedriver + 189768\n3   chromedriver                        0x0000000104f34ea4 chromedriver + 200356\n4   chromedriver                        0x0000000104f34d0c chromedriver + 199948\n5   chromedriver                        0x0000000104f34f40 chromedriver + 200512\n6   chromedriver                        0x0000000104f62614 chromedriver + 386580\n7   chromedriver                        0x0000000104f578e4 chromedriver + 342244\n8   chromedriver                        0x0000000104f573bc chromedriver + 340924\n9   chromedriver                        0x0000000104f89bfc chromedriver + 547836\n10  chromedriver                        0x0000000104f56248 chromedriver + 336456\n11  chromedriver                        0x00000001052ff548 chromedriver + 4175176\n12  chromedriver                        0x000000010531595c chromedriver + 4266332\n13  chromedriver                        0x000000010531a660 chromedriver + 4286048\n14  chromedriver                        0x0000000105316124 chromedriver + 4268324\n15  chromedriver                        0x00000001052f553c chromedriver + 4134204\n16  chromedriver                        0x000000010532deb0 chromedriver + 4366000\n17  chromedriver                        0x000000010532e014 chromedriver + 4366356\n18  chromedriver                        0x0000000105341a6c chromedriver + 4446828\n19  libsystem_pthread.dylib             0x00000001908aafd4 _pthread_start + 320\n20  libsystem_pthread.dylib             0x00000001908a5d3c thread_start + 8\n",
     "output_type": "error",
     "traceback": [
      "\u001b[0;31m---------------------------------------------------------------------------\u001b[0m",
      "\u001b[0;31mStaleElementReferenceException\u001b[0m            Traceback (most recent call last)",
      "\u001b[0;32m<ipython-input-192-a525751946ac>\u001b[0m in \u001b[0;36m<module>\u001b[0;34m\u001b[0m\n\u001b[1;32m     87\u001b[0m         \u001b[0;31m# 다음 페이지 클릭 반복문\u001b[0m\u001b[0;34m\u001b[0m\u001b[0;34m\u001b[0m\u001b[0;34m\u001b[0m\u001b[0m\n\u001b[1;32m     88\u001b[0m         \u001b[0;32mfor\u001b[0m \u001b[0mpage\u001b[0m \u001b[0;32min\u001b[0m \u001b[0mrange\u001b[0m\u001b[0;34m(\u001b[0m\u001b[0;36m10\u001b[0m\u001b[0;34m)\u001b[0m\u001b[0;34m:\u001b[0m\u001b[0;34m\u001b[0m\u001b[0;34m\u001b[0m\u001b[0m\n\u001b[0;32m---> 89\u001b[0;31m             \u001b[0mscraping\u001b[0m\u001b[0;34m(\u001b[0m\u001b[0;36m0\u001b[0m\u001b[0;34m)\u001b[0m\u001b[0;34m\u001b[0m\u001b[0;34m\u001b[0m\u001b[0m\n\u001b[0m\u001b[1;32m     90\u001b[0m     \u001b[0;32melif\u001b[0m \u001b[0mi\u001b[0m \u001b[0;34m>\u001b[0m \u001b[0;36m0\u001b[0m \u001b[0;32mand\u001b[0m \u001b[0mi\u001b[0m \u001b[0;34m!=\u001b[0m \u001b[0mtotal_next\u001b[0m \u001b[0;34m-\u001b[0m \u001b[0;36m1\u001b[0m\u001b[0;34m:\u001b[0m\u001b[0;34m\u001b[0m\u001b[0;34m\u001b[0m\u001b[0m\n\u001b[1;32m     91\u001b[0m         \u001b[0;32mfor\u001b[0m \u001b[0mpage\u001b[0m \u001b[0;32min\u001b[0m \u001b[0mrange\u001b[0m\u001b[0;34m(\u001b[0m\u001b[0;36m10\u001b[0m\u001b[0;34m)\u001b[0m\u001b[0;34m:\u001b[0m\u001b[0;34m\u001b[0m\u001b[0;34m\u001b[0m\u001b[0m\n",
      "\u001b[0;32m<ipython-input-192-a525751946ac>\u001b[0m in \u001b[0;36mscraping\u001b[0;34m(num)\u001b[0m\n\u001b[1;32m     11\u001b[0m     \u001b[0;32mfor\u001b[0m \u001b[0mi\u001b[0m \u001b[0;32min\u001b[0m \u001b[0mrange\u001b[0m\u001b[0;34m(\u001b[0m\u001b[0;36m11\u001b[0m\u001b[0;34m,\u001b[0m \u001b[0mlen\u001b[0m\u001b[0;34m(\u001b[0m\u001b[0marticles\u001b[0m\u001b[0;34m)\u001b[0m\u001b[0;34m)\u001b[0m\u001b[0;34m:\u001b[0m\u001b[0;34m\u001b[0m\u001b[0;34m\u001b[0m\u001b[0m\n\u001b[1;32m     12\u001b[0m         \u001b[0marticle\u001b[0m \u001b[0;34m=\u001b[0m \u001b[0marticles\u001b[0m\u001b[0;34m[\u001b[0m\u001b[0mi\u001b[0m\u001b[0;34m]\u001b[0m\u001b[0;34m\u001b[0m\u001b[0;34m\u001b[0m\u001b[0m\n\u001b[0;32m---> 13\u001b[0;31m         \u001b[0marticle\u001b[0m\u001b[0;34m.\u001b[0m\u001b[0mclick\u001b[0m\u001b[0;34m(\u001b[0m\u001b[0;34m)\u001b[0m\u001b[0;34m\u001b[0m\u001b[0;34m\u001b[0m\u001b[0m\n\u001b[0m\u001b[1;32m     14\u001b[0m         \u001b[0mtime\u001b[0m\u001b[0;34m.\u001b[0m\u001b[0msleep\u001b[0m\u001b[0;34m(\u001b[0m\u001b[0;36m1\u001b[0m\u001b[0;34m)\u001b[0m\u001b[0;34m\u001b[0m\u001b[0;34m\u001b[0m\u001b[0m\n\u001b[1;32m     15\u001b[0m \u001b[0;34m\u001b[0m\u001b[0m\n",
      "\u001b[0;32m~/opt/anaconda3/lib/python3.8/site-packages/selenium/webdriver/remote/webelement.py\u001b[0m in \u001b[0;36mclick\u001b[0;34m(self)\u001b[0m\n\u001b[1;32m     79\u001b[0m     \u001b[0;32mdef\u001b[0m \u001b[0mclick\u001b[0m\u001b[0;34m(\u001b[0m\u001b[0mself\u001b[0m\u001b[0;34m)\u001b[0m \u001b[0;34m->\u001b[0m \u001b[0;32mNone\u001b[0m\u001b[0;34m:\u001b[0m\u001b[0;34m\u001b[0m\u001b[0;34m\u001b[0m\u001b[0m\n\u001b[1;32m     80\u001b[0m         \u001b[0;34m\"\"\"Clicks the element.\"\"\"\u001b[0m\u001b[0;34m\u001b[0m\u001b[0;34m\u001b[0m\u001b[0m\n\u001b[0;32m---> 81\u001b[0;31m         \u001b[0mself\u001b[0m\u001b[0;34m.\u001b[0m\u001b[0m_execute\u001b[0m\u001b[0;34m(\u001b[0m\u001b[0mCommand\u001b[0m\u001b[0;34m.\u001b[0m\u001b[0mCLICK_ELEMENT\u001b[0m\u001b[0;34m)\u001b[0m\u001b[0;34m\u001b[0m\u001b[0;34m\u001b[0m\u001b[0m\n\u001b[0m\u001b[1;32m     82\u001b[0m \u001b[0;34m\u001b[0m\u001b[0m\n\u001b[1;32m     83\u001b[0m     \u001b[0;32mdef\u001b[0m \u001b[0msubmit\u001b[0m\u001b[0;34m(\u001b[0m\u001b[0mself\u001b[0m\u001b[0;34m)\u001b[0m\u001b[0;34m:\u001b[0m\u001b[0;34m\u001b[0m\u001b[0;34m\u001b[0m\u001b[0m\n",
      "\u001b[0;32m~/opt/anaconda3/lib/python3.8/site-packages/selenium/webdriver/remote/webelement.py\u001b[0m in \u001b[0;36m_execute\u001b[0;34m(self, command, params)\u001b[0m\n\u001b[1;32m    708\u001b[0m             \u001b[0mparams\u001b[0m \u001b[0;34m=\u001b[0m \u001b[0;34m{\u001b[0m\u001b[0;34m}\u001b[0m\u001b[0;34m\u001b[0m\u001b[0;34m\u001b[0m\u001b[0m\n\u001b[1;32m    709\u001b[0m         \u001b[0mparams\u001b[0m\u001b[0;34m[\u001b[0m\u001b[0;34m'id'\u001b[0m\u001b[0;34m]\u001b[0m \u001b[0;34m=\u001b[0m \u001b[0mself\u001b[0m\u001b[0;34m.\u001b[0m\u001b[0m_id\u001b[0m\u001b[0;34m\u001b[0m\u001b[0;34m\u001b[0m\u001b[0m\n\u001b[0;32m--> 710\u001b[0;31m         \u001b[0;32mreturn\u001b[0m \u001b[0mself\u001b[0m\u001b[0;34m.\u001b[0m\u001b[0m_parent\u001b[0m\u001b[0;34m.\u001b[0m\u001b[0mexecute\u001b[0m\u001b[0;34m(\u001b[0m\u001b[0mcommand\u001b[0m\u001b[0;34m,\u001b[0m \u001b[0mparams\u001b[0m\u001b[0;34m)\u001b[0m\u001b[0;34m\u001b[0m\u001b[0;34m\u001b[0m\u001b[0m\n\u001b[0m\u001b[1;32m    711\u001b[0m \u001b[0;34m\u001b[0m\u001b[0m\n\u001b[1;32m    712\u001b[0m     \u001b[0;32mdef\u001b[0m \u001b[0mfind_element\u001b[0m\u001b[0;34m(\u001b[0m\u001b[0mself\u001b[0m\u001b[0;34m,\u001b[0m \u001b[0mby\u001b[0m\u001b[0;34m=\u001b[0m\u001b[0mBy\u001b[0m\u001b[0;34m.\u001b[0m\u001b[0mID\u001b[0m\u001b[0;34m,\u001b[0m \u001b[0mvalue\u001b[0m\u001b[0;34m=\u001b[0m\u001b[0;32mNone\u001b[0m\u001b[0;34m)\u001b[0m\u001b[0;34m:\u001b[0m\u001b[0;34m\u001b[0m\u001b[0;34m\u001b[0m\u001b[0m\n",
      "\u001b[0;32m~/opt/anaconda3/lib/python3.8/site-packages/selenium/webdriver/remote/webdriver.py\u001b[0m in \u001b[0;36mexecute\u001b[0;34m(self, driver_command, params)\u001b[0m\n\u001b[1;32m    423\u001b[0m         \u001b[0mresponse\u001b[0m \u001b[0;34m=\u001b[0m \u001b[0mself\u001b[0m\u001b[0;34m.\u001b[0m\u001b[0mcommand_executor\u001b[0m\u001b[0;34m.\u001b[0m\u001b[0mexecute\u001b[0m\u001b[0;34m(\u001b[0m\u001b[0mdriver_command\u001b[0m\u001b[0;34m,\u001b[0m \u001b[0mparams\u001b[0m\u001b[0;34m)\u001b[0m\u001b[0;34m\u001b[0m\u001b[0;34m\u001b[0m\u001b[0m\n\u001b[1;32m    424\u001b[0m         \u001b[0;32mif\u001b[0m \u001b[0mresponse\u001b[0m\u001b[0;34m:\u001b[0m\u001b[0;34m\u001b[0m\u001b[0;34m\u001b[0m\u001b[0m\n\u001b[0;32m--> 425\u001b[0;31m             \u001b[0mself\u001b[0m\u001b[0;34m.\u001b[0m\u001b[0merror_handler\u001b[0m\u001b[0;34m.\u001b[0m\u001b[0mcheck_response\u001b[0m\u001b[0;34m(\u001b[0m\u001b[0mresponse\u001b[0m\u001b[0;34m)\u001b[0m\u001b[0;34m\u001b[0m\u001b[0;34m\u001b[0m\u001b[0m\n\u001b[0m\u001b[1;32m    426\u001b[0m             response['value'] = self._unwrap_value(\n\u001b[1;32m    427\u001b[0m                 response.get('value', None))\n",
      "\u001b[0;32m~/opt/anaconda3/lib/python3.8/site-packages/selenium/webdriver/remote/errorhandler.py\u001b[0m in \u001b[0;36mcheck_response\u001b[0;34m(self, response)\u001b[0m\n\u001b[1;32m    245\u001b[0m                 \u001b[0malert_text\u001b[0m \u001b[0;34m=\u001b[0m \u001b[0mvalue\u001b[0m\u001b[0;34m[\u001b[0m\u001b[0;34m'alert'\u001b[0m\u001b[0;34m]\u001b[0m\u001b[0;34m.\u001b[0m\u001b[0mget\u001b[0m\u001b[0;34m(\u001b[0m\u001b[0;34m'text'\u001b[0m\u001b[0;34m)\u001b[0m\u001b[0;34m\u001b[0m\u001b[0;34m\u001b[0m\u001b[0m\n\u001b[1;32m    246\u001b[0m             \u001b[0;32mraise\u001b[0m \u001b[0mexception_class\u001b[0m\u001b[0;34m(\u001b[0m\u001b[0mmessage\u001b[0m\u001b[0;34m,\u001b[0m \u001b[0mscreen\u001b[0m\u001b[0;34m,\u001b[0m \u001b[0mstacktrace\u001b[0m\u001b[0;34m,\u001b[0m \u001b[0malert_text\u001b[0m\u001b[0;34m)\u001b[0m  \u001b[0;31m# type: ignore[call-arg]  # mypy is not smart enough here\u001b[0m\u001b[0;34m\u001b[0m\u001b[0;34m\u001b[0m\u001b[0m\n\u001b[0;32m--> 247\u001b[0;31m         \u001b[0;32mraise\u001b[0m \u001b[0mexception_class\u001b[0m\u001b[0;34m(\u001b[0m\u001b[0mmessage\u001b[0m\u001b[0;34m,\u001b[0m \u001b[0mscreen\u001b[0m\u001b[0;34m,\u001b[0m \u001b[0mstacktrace\u001b[0m\u001b[0;34m)\u001b[0m\u001b[0;34m\u001b[0m\u001b[0;34m\u001b[0m\u001b[0m\n\u001b[0m\u001b[1;32m    248\u001b[0m \u001b[0;34m\u001b[0m\u001b[0m\n\u001b[1;32m    249\u001b[0m     \u001b[0;32mdef\u001b[0m \u001b[0m_value_or_default\u001b[0m\u001b[0;34m(\u001b[0m\u001b[0mself\u001b[0m\u001b[0;34m,\u001b[0m \u001b[0mobj\u001b[0m\u001b[0;34m:\u001b[0m \u001b[0mMapping\u001b[0m\u001b[0;34m[\u001b[0m\u001b[0m_KT\u001b[0m\u001b[0;34m,\u001b[0m \u001b[0m_VT\u001b[0m\u001b[0;34m]\u001b[0m\u001b[0;34m,\u001b[0m \u001b[0mkey\u001b[0m\u001b[0;34m:\u001b[0m \u001b[0m_KT\u001b[0m\u001b[0;34m,\u001b[0m \u001b[0mdefault\u001b[0m\u001b[0;34m:\u001b[0m \u001b[0m_VT\u001b[0m\u001b[0;34m)\u001b[0m \u001b[0;34m->\u001b[0m \u001b[0m_VT\u001b[0m\u001b[0;34m:\u001b[0m\u001b[0;34m\u001b[0m\u001b[0;34m\u001b[0m\u001b[0m\n",
      "\u001b[0;31mStaleElementReferenceException\u001b[0m: Message: stale element reference: element is not attached to the page document\n  (Session info: chrome=99.0.4844.84)\nStacktrace:\n0   chromedriver                        0x000000010533b370 chromedriver + 4420464\n1   chromedriver                        0x00000001052d2940 chromedriver + 3991872\n2   chromedriver                        0x0000000104f32548 chromedriver + 189768\n3   chromedriver                        0x0000000104f34ea4 chromedriver + 200356\n4   chromedriver                        0x0000000104f34d0c chromedriver + 199948\n5   chromedriver                        0x0000000104f34f40 chromedriver + 200512\n6   chromedriver                        0x0000000104f62614 chromedriver + 386580\n7   chromedriver                        0x0000000104f578e4 chromedriver + 342244\n8   chromedriver                        0x0000000104f573bc chromedriver + 340924\n9   chromedriver                        0x0000000104f89bfc chromedriver + 547836\n10  chromedriver                        0x0000000104f56248 chromedriver + 336456\n11  chromedriver                        0x00000001052ff548 chromedriver + 4175176\n12  chromedriver                        0x000000010531595c chromedriver + 4266332\n13  chromedriver                        0x000000010531a660 chromedriver + 4286048\n14  chromedriver                        0x0000000105316124 chromedriver + 4268324\n15  chromedriver                        0x00000001052f553c chromedriver + 4134204\n16  chromedriver                        0x000000010532deb0 chromedriver + 4366000\n17  chromedriver                        0x000000010532e014 chromedriver + 4366356\n18  chromedriver                        0x0000000105341a6c chromedriver + 4446828\n19  libsystem_pthread.dylib             0x00000001908aafd4 _pthread_start + 320\n20  libsystem_pthread.dylib             0x00000001908a5d3c thread_start + 8\n"
     ]
    }
   ],
   "source": [
    "browser.get(categoryListUrl)\n",
    "time.sleep(1)\n",
    "\n",
    "browser.switch_to.frame('cafe_main')\n",
    "\n",
    "def scraping(num):\n",
    "    with_before = 0\n",
    "    articles = browser.find_elements(By.CSS_SELECTOR, 'a.article')\n",
    "    print('len(articles) : ', len(articles))\n",
    "    # 게시물 이동을 위한 반복문\n",
    "    for i in range(11, len(articles)):\n",
    "        article = articles[i]\n",
    "        article.click()\n",
    "        time.sleep(1)\n",
    "\n",
    "        # 정보 추출\n",
    "        # 공지 게시물과도 동일한 제공 정보\n",
    "        date = browser.find_element(By.CSS_SELECTOR, '.date').text\n",
    "        title = browser.find_element(By.CSS_SELECTOR, 'h3.title_text').text\n",
    "        url = browser.find_element(By.CSS_SELECTOR, '.button_url').get_attribute('href')\n",
    "\n",
    "        print('date : ', date)\n",
    "        print('title : ', title)\n",
    "        print('url : ', url)\n",
    "\n",
    "        # 상품 가격\n",
    "        priceStr = browser.find_element(By.CSS_SELECTOR, '.ProductPrice')\n",
    "#         if priceStr != None:\n",
    "        if priceStr:\n",
    "            priceStr = priceStr.text\n",
    "            if priceStr:\n",
    "                priceNumStr = priceStr[:-1]\n",
    "                price = priceNumStr.replace(',', '')\n",
    "                price = int(price)\n",
    "                print('price : ', price)\n",
    "            else:\n",
    "                # 제목에서 가격 문자열 추출 시도 한 번 더\n",
    "                price = ''\n",
    "            continue\n",
    "        else:\n",
    "            continue\n",
    "\n",
    "        print('price : ', price)\n",
    "\n",
    "        # 상품 상태\n",
    "        status = browser.find_element(By.CSS_SELECTOR, '.detail_list')\n",
    "        if status:\n",
    "            statusTitle = status.find_element(By.CSS_SELECTOR, '.list_title').text\n",
    "            if statusTitle == '상품 상태':\n",
    "                statusContent = status.find_element(By.CSS_SELECTOR, '.list_detail').text\n",
    "                print('status : ', status)\n",
    "                print('statusTitle : ', statusTitle)\n",
    "                print('statusContent : ', statusContent)\n",
    "            else:\n",
    "                statusContent = ''\n",
    "            \n",
    "        else:\n",
    "            continue\n",
    "            \n",
    "\n",
    "        # 상품 설명\n",
    "        explanation = browser.find_element(By.CSS_SELECTOR, '.se-main-container')\n",
    "        if explanation:\n",
    "            explanation = explanation.text\n",
    "            continue\n",
    "        else:   \n",
    "            continue\n",
    "        print('explanation : ', explanation)\n",
    "\n",
    "        # 엑셀에 작성\n",
    "        # ws.append(['제목', '가격', '상품 상태', '작성 날짜', '상품 설명', 'url'])   # 거래 완료\n",
    "        ws.append([title, price, statusContent, date, explanation, url])\n",
    "\n",
    "        # 뒤로 가기\n",
    "        browser.back()\n",
    "        browser.switch_to.frame('cafe_main')\n",
    "        time.sleep(1)\n",
    "\n",
    "    # 다음 게시글 페이지 이동\n",
    "    pages = browser.find_elements(By.CSS_SELECTOR, '.prev-next a')[page + 1 + num]\n",
    "    pages.click()\n",
    "    time.sleep(1)\n",
    "\n",
    "for i in range(total_next):\n",
    "    # 마지막 10단위 페이지 일 때\n",
    "    if i == 0:\n",
    "        # 다음 페이지 클릭 반복문\n",
    "        for page in range(10):\n",
    "            scraping(0)\n",
    "    elif i > 0 and i != total_next - 1:\n",
    "        for page in range(10):\n",
    "            scraping(1)\n",
    "    elif i == total_next - 1:\n",
    "        for page in range(last_page):\n",
    "            scraping(1)\n",
    "\n",
    "              \n",
    "# selenium 끝내고 엑셀 파일 저장\n",
    "browser.quit()\n",
    "wb.save(f'중고나라_{today}_게시물.xlsx')"
   ]
  },
  {
   "cell_type": "code",
   "execution_count": null,
   "id": "29fce6d5",
   "metadata": {},
   "outputs": [],
   "source": []
  }
 ],
 "metadata": {
  "kernelspec": {
   "display_name": "Python 3",
   "language": "python",
   "name": "python3"
  },
  "language_info": {
   "codemirror_mode": {
    "name": "ipython",
    "version": 3
   },
   "file_extension": ".py",
   "mimetype": "text/x-python",
   "name": "python",
   "nbconvert_exporter": "python",
   "pygments_lexer": "ipython3",
   "version": "3.8.8"
  }
 },
 "nbformat": 4,
 "nbformat_minor": 5
}
