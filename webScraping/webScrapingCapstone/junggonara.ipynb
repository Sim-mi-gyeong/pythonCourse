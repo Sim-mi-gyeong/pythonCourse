{
 "cells": [
  {
   "cell_type": "code",
   "execution_count": 8,
   "id": "bd81abb3",
   "metadata": {},
   "outputs": [],
   "source": [
    "from selenium import webdriver\n",
    "from selenium.webdriver.common.keys import Keys\n",
    "from selenium.webdriver.common.by import By\n",
    "\n",
    "from selenium.common.exceptions import NoSuchElementException\n",
    "\n",
    "import requests\n",
    "from bs4 import BeautifulSoup"
   ]
  },
  {
   "cell_type": "code",
   "execution_count": 5,
   "id": "83e41bf6",
   "metadata": {},
   "outputs": [],
   "source": [
    "import time\n",
    "import pyperclip\n",
    "import pymongo\n",
    "\n",
    "from openpyxl import Workbook\n",
    "import datetime\n",
    "import numpy as np\n",
    "import pandas as pd"
   ]
  },
  {
   "cell_type": "code",
   "execution_count": 4,
   "id": "cfac2c99",
   "metadata": {},
   "outputs": [
    {
     "name": "stderr",
     "output_type": "stream",
     "text": [
      "<ipython-input-4-446072ecd6a9>:1: DeprecationWarning: executable_path has been deprecated, please pass in a Service object\n",
      "  browser = webdriver.Chrome('./chromedriver')\n"
     ]
    }
   ],
   "source": [
    "browser = webdriver.Chrome('./chromedriver')\n",
    "browser.maximize_window()"
   ]
  },
  {
   "cell_type": "code",
   "execution_count": 6,
   "id": "8dc98754",
   "metadata": {},
   "outputs": [],
   "source": [
    "# 중고나라 접속\n",
    "url = \"https://cafe.naver.com/junggonara\"\n",
    "browser.implicitly_wait(3)\n",
    "browser.get(url)\n",
    "time.sleep(1)"
   ]
  },
  {
   "cell_type": "code",
   "execution_count": 47,
   "id": "7b9b5c06",
   "metadata": {},
   "outputs": [],
   "source": [
    "# 로그인 페이지 이동\n",
    "loginBtn = browser.find_element(By.ID, 'gnb_login_button')\n",
    "loginBtn.click()\n",
    "time.sleep(1)\n",
    "# loginBtn.send_keys(Keys.ENTER)"
   ]
  },
  {
   "cell_type": "code",
   "execution_count": 48,
   "id": "1f7f98df",
   "metadata": {},
   "outputs": [],
   "source": [
    "# ID, Password 입력할 곳을 찾고 입력(copy)\n",
    "\n",
    "inputId = browser.find_element(By.ID, 'id')\n",
    "inputPw = browser.find_element(By.ID, 'pw')\n",
    "# inputId = browser.find_element(By.ID, 'id_line')\n",
    "# inputPw = browser.find_element(By.ID, 'pw_line')\n",
    "\n",
    "# 입력된 값이 없는 상태로\n",
    "inputId.clear()\n",
    "inputPw.clear()"
   ]
  },
  {
   "cell_type": "code",
   "execution_count": 49,
   "id": "8ed6bf57",
   "metadata": {},
   "outputs": [],
   "source": [
    "myId = 'alruddlwl'\n",
    "myPw = 'seung1217!'\n",
    "\n",
    "# ID 입력\n",
    "inputId.click()\n",
    "inputId.send_keys(myId)\n",
    "# id, pw 값 secrets.json 으로 따로 빼기\n",
    "# pyperclip.copy(myId)\n",
    "# inputId.send_keys(Keys.CONTROL, 'v')\n",
    "time.sleep(1)\n",
    "\n",
    "# PW 입력\n",
    "inputPw.click()\n",
    "inputPw.send_keys(myPw)\n",
    "# pyperclip.copy('seung1217!')\n",
    "# inputPw.send_keys(Keys.CONTROL, 'v')\n",
    "time.sleep(1)\n",
    "\n",
    "# 로그인 버튼 클릭\n",
    "loginBtn = browser.find_element(By.ID, 'log.login')\n",
    "loginBtn.click()"
   ]
  },
  {
   "cell_type": "code",
   "execution_count": null,
   "id": "0c6571c4",
   "metadata": {},
   "outputs": [],
   "source": [
    "# \"https://cafe.naver.com/joonggonara.cafe?iframe_url=/ArticleList.nhn%3Fsearch.clubid=10050146%26search.boardtype=L%26viewType=pc\"\n",
    "# 태블릿\n",
    "# \"https://cafe.naver.com/joonggonara?iframe_url=/ArticleList.nhn%3Fsearch.clubid=10050146%26search.menuid=334%26\"\n",
    "# 노트북 \n",
    "# \"https://cafe.naver.com/joonggonara?iframe_url=/ArticleList.nhn%3Fsearch.clubid=10050146%26search.menuid=334%26search.boardtype=L\"\n",
    "url = \"https://cafe.naver.com/junggonara\"\n",
    "junggonaraId = 10050146\n",
    "\n",
    "# 카테고리 ID 정의\n",
    "mobilePhoneId = ''\n",
    "\n",
    "\n",
    "# 필요한 카테고리 열기\n",
    "mobilePhoneId = ''"
   ]
  },
  {
   "cell_type": "code",
   "execution_count": null,
   "id": "7de692ab",
   "metadata": {},
   "outputs": [],
   "source": []
  }
 ],
 "metadata": {
  "kernelspec": {
   "display_name": "Python 3",
   "language": "python",
   "name": "python3"
  },
  "language_info": {
   "codemirror_mode": {
    "name": "ipython",
    "version": 3
   },
   "file_extension": ".py",
   "mimetype": "text/x-python",
   "name": "python",
   "nbconvert_exporter": "python",
   "pygments_lexer": "ipython3",
   "version": "3.8.8"
  }
 },
 "nbformat": 4,
 "nbformat_minor": 5
}
